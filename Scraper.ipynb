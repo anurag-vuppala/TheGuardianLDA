{
  "nbformat": 4,
  "nbformat_minor": 0,
  "metadata": {
    "colab": {
      "name": "Scraper.ipynb",
      "private_outputs": true,
      "provenance": [],
      "collapsed_sections": [],
      "authorship_tag": "ABX9TyNaJZVY/Wcz2oLiDCWAuJAd",
      "include_colab_link": true
    },
    "kernelspec": {
      "name": "python3",
      "display_name": "Python 3"
    },
    "language_info": {
      "name": "python"
    }
  },
  "cells": [
    {
      "cell_type": "markdown",
      "metadata": {
        "id": "view-in-github",
        "colab_type": "text"
      },
      "source": [
        "<a href=\"https://colab.research.google.com/github/anurag-vuppala/TheGuardianLDA/blob/main/Scraper.ipynb\" target=\"_parent\"><img src=\"https://colab.research.google.com/assets/colab-badge.svg\" alt=\"Open In Colab\"/></a>"
      ]
    },
    {
      "cell_type": "code",
      "metadata": {
        "id": "FLRYSzNt53jk"
      },
      "source": [
        "from bs4 import BeautifulSoup \n",
        "import requests\n",
        "from datetime import date\n",
        "import pandas as pd\n",
        "import sqlite3 as sql"
      ],
      "execution_count": null,
      "outputs": []
    },
    {
      "cell_type": "code",
      "metadata": {
        "id": "jFuh-wBW5_NN"
      },
      "source": [
        "web = \"https://www.theguardian.com/uk\"\n",
        "html = requests.get(web)\n",
        "\n",
        "soup = BeautifulSoup(html.content,'html.parser')"
      ],
      "execution_count": null,
      "outputs": []
    },
    {
      "cell_type": "code",
      "metadata": {
        "id": "s42ESQp36BDU"
      },
      "source": [
        ""
      ],
      "execution_count": null,
      "outputs": []
    },
    {
      "cell_type": "code",
      "metadata": {
        "id": "l7kYBMA16Rf0"
      },
      "source": [
        "links = []\n",
        "for head in soup.findAll('div',{'class': 'fc-item__container'}):  \n",
        "    links.append(head.a['href'])\n",
        "# print(len(links))\n",
        "news = []\n",
        "headline = []\n",
        "linkdata = []\n",
        "for link in links:\n",
        "\thtml1 = requests.get(link)\n",
        "\tsoup1 = BeautifulSoup(html1.content,'html.parser')\n",
        "\tfor head in soup1.findAll('main',{'class':'dcr-myhfeo'} , 'h1' ):\n",
        "\t\theadline.append(soup1.h1.text)\n",
        "\t\tnews.append(head.get_text())\n",
        "\t\tlinkdata.append(link)"
      ],
      "execution_count": null,
      "outputs": []
    },
    {
      "cell_type": "code",
      "metadata": {
        "id": "XX-KnxoS8Sb-"
      },
      "source": [
        "print(links)"
      ],
      "execution_count": null,
      "outputs": []
    },
    {
      "cell_type": "code",
      "metadata": {
        "id": "Kt3RtVE58Y9X"
      },
      "source": [
        "news"
      ],
      "execution_count": null,
      "outputs": []
    },
    {
      "cell_type": "code",
      "metadata": {
        "id": "LaXaHc9l8plr"
      },
      "source": [
        "headline"
      ],
      "execution_count": null,
      "outputs": []
    },
    {
      "cell_type": "code",
      "metadata": {
        "id": "dkwO9Wx1AtbF"
      },
      "source": [
        "print(f'number of headline{len(headline)},news{len(news)},links{len(linkdata)}')\n",
        "\n",
        "data = pd.DataFrame({'Headline': headline,'News':news,'Links':linkdata})\n",
        "\n",
        "print(data)"
      ],
      "execution_count": null,
      "outputs": []
    },
    {
      "cell_type": "code",
      "metadata": {
        "id": "_mf3bGO-K7j9"
      },
      "source": [
        ""
      ],
      "execution_count": null,
      "outputs": []
    }
  ]
}